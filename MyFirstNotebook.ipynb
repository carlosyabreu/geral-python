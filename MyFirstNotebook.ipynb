{
 "cells": [
  {
   "cell_type": "code",
   "execution_count": null,
   "metadata": {},
   "outputs": [
    {
     "name": "stdout",
     "output_type": "stream",
     "text": [
      "['No' 'No' 'No' 'Yes' 'No']\n"
     ]
    }
   ],
   "source": [
    "import numpy as np\n",
    "\n",
    "scores = np.array([85, 90, 23, 190, 81])\n",
    "eligibility = np.whea(scores > 90, \"Yes\", \"No\")\n",
    "\n",
    "print(eligibility)"
   ]
  },
  {
   "cell_type": "code",
   "execution_count": 14,
   "metadata": {},
   "outputs": [
    {
     "data": {
      "text/plain": [
       "array([58, 46, 91, 19, 16, 91, 43, 50, 50, 11, 84, 47, 23, 63, 39, 19, 98,\n",
       "       32, 25, 43, 90, 78, 81, 58, 22, 97, 84, 13, 59, 63, 57, 16, 83, 74,\n",
       "       11, 73, 79, 42, 42, 87, 85, 46, 40, 54, 38, 47, 93, 63, 40, 42, 57,\n",
       "       93, 88, 80, 52, 46, 87, 24, 94, 66, 88, 42, 11, 79, 70, 51, 57, 91,\n",
       "       36, 98, 89, 64, 18, 21, 91, 96, 18, 72, 80, 69, 67, 30, 13, 22, 73,\n",
       "       88, 75, 75, 35, 11, 49, 23, 85, 90, 47, 81, 11, 87, 49, 42])"
      ]
     },
     "execution_count": 14,
     "metadata": {},
     "output_type": "execute_result"
    }
   ],
   "source": [
    "data = np.random.randint(10, 100, 100)\n",
    "data.ravel()"
   ]
  }
 ],
 "metadata": {
  "kernelspec": {
   "display_name": ".venv",
   "language": "python",
   "name": "python3"
  },
  "language_info": {
   "codemirror_mode": {
    "name": "ipython",
    "version": 3
   },
   "file_extension": ".py",
   "mimetype": "text/x-python",
   "name": "python",
   "nbconvert_exporter": "python",
   "pygments_lexer": "ipython3",
   "version": "3.12.3"
  }
 },
 "nbformat": 4,
 "nbformat_minor": 2
}
